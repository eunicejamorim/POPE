{
 "cells": [
  {
   "cell_type": "markdown",
   "metadata": {},
   "source": [
    "# Metrics"
   ]
  },
  {
   "cell_type": "code",
   "execution_count": 586,
   "metadata": {},
   "outputs": [],
   "source": [
    "import pandas as pd\n",
    "import os\n",
    "import json\n",
    "from sklearn.metrics import accuracy_score, precision_score, recall_score\n",
    "import functools\n",
    "import matplotlib.pyplot as plt\n",
    "import scipy.stats as stats\n",
    "import numpy as np"
   ]
  },
  {
   "cell_type": "markdown",
   "metadata": {},
   "source": [
    "## Important functions"
   ]
  },
  {
   "cell_type": "code",
   "execution_count": 499,
   "metadata": {},
   "outputs": [],
   "source": [
    "def yes_no_simetrical(value):\n",
    "    if value == \"yes\": return \"no\"\n",
    "    return \"yes\""
   ]
  },
  {
   "cell_type": "code",
   "execution_count": 500,
   "metadata": {},
   "outputs": [],
   "source": [
    "websites = pd.read_csv(\"../../dataset/raw_data/html.csv\")\n",
    "\n",
    "private = websites['private'].to_list()\n",
    "private_details = websites['private_details'].to_list()\n",
    "\n",
    "public = [yes_no_simetrical(x) for x in private]\n",
    "\n",
    "yes = 0\n",
    "no = 0\n",
    "for i in private:\n",
    "    if i == \"yes\":\n",
    "        yes += 1\n",
    "    elif i == \"no\":\n",
    "        no +=1\n",
    "    else: \n",
    "        print(\"others\", \"*\"+i+\"*\")\n"
   ]
  },
  {
   "cell_type": "code",
   "execution_count": 501,
   "metadata": {},
   "outputs": [],
   "source": [
    "def readFile(path):\n",
    "    file = open(path, 'r', encoding='utf-8')\n",
    "    content = file.read()\n",
    "    file.close()\n",
    "    return content"
   ]
  },
  {
   "cell_type": "code",
   "execution_count": 502,
   "metadata": {},
   "outputs": [],
   "source": [
    "def get_all_prompt_size(model, data_type, context, prompt_version):\n",
    "    sizes = []\n",
    "    for i in range(520):\n",
    "        image_size = 0\n",
    "        path = '/'.join([\"../prompts\",model,data_type,context,prompt_version,str(i)])\n",
    "        if model == \"llava\":\n",
    "            path_image = '/'.join([\"../../dataset/proccessed/html_rendered\",str(i)+\".png\"])\n",
    "            stats_image = os.stat(path_image)\n",
    "            image_size = stats_image.st_size\n",
    "        stats = os.stat(path)\n",
    "        sizes.append(stats.st_size + image_size)\n",
    "    return sizes\n",
    "\n",
    "def get_all_results_size(model, data_type, context, prompt_version):\n",
    "    sizes = []\n",
    "    for i in range(520):\n",
    "        path = '/'.join([\"../results\",model,data_type,context,prompt_version,str(i)])\n",
    "        stats = os.stat(path)\n",
    "        sizes.append(stats.st_size)\n",
    "    return sizes\n",
    "\n",
    "def get_all_prompt_size_average(model, data_type, context, prompt_version):\n",
    "    return functools.reduce(lambda a,b: a+b, get_all_prompt_size(model, data_type, context, prompt_version)) / 520\n",
    "\n",
    "def get_all_results_size_average(model, data_type, context, prompt_version):\n",
    "    return functools.reduce(lambda a,b: a+b, get_all_results_size(model, data_type, context, prompt_version)) / 520\n",
    "\n",
    "# get_all_prompt_size(\"llava\", \"image\", \"context\", \"0\")\n",
    "# get_all_results_size_average(\"llava\", \"image\", \"context\", \"0\")"
   ]
  },
  {
   "cell_type": "code",
   "execution_count": 503,
   "metadata": {},
   "outputs": [],
   "source": [
    "def get_results(model, data_type, context, prompt_version):\n",
    "    results = []\n",
    "    for i in range(520):\n",
    "        path = '/'.join([\"../results_processed\",model,data_type,context,prompt_version,str(i)+\".json\"])\n",
    "        content = readFile(path)\n",
    "        json_value = json.loads(content)\n",
    "        results.append(json_value[\"answer\"])\n",
    "    return results\n",
    "\n",
    "def get_time(model, data_type, context, prompt_version):\n",
    "    results = []\n",
    "    for i in range(520):\n",
    "        path = '/'.join([\"../results_processed\",model,data_type,context,prompt_version,str(i)+\".json\"])\n",
    "        content = readFile(path)\n",
    "        json_value = json.loads(content)\n",
    "        results.append(json_value[\"time\"])\n",
    "    return results \n",
    "\n",
    "def get_average_time(model, data_type, context, prompt_version):\n",
    "    time = get_time(model, data_type, context, prompt_version)\n",
    "    total_time =  functools.reduce(lambda a, b: a+b, time)\n",
    "    return total_time/520\n",
    "\n",
    "# get_average_time(\"codellama\", \"strings\", \"no_context\", \"2\")"
   ]
  },
  {
   "cell_type": "code",
   "execution_count": 504,
   "metadata": {},
   "outputs": [],
   "source": [
    "def get_not_answered(results):\n",
    "    counter = 0\n",
    "    for i in results:\n",
    "        if i == \"not_answer\":\n",
    "            counter += 1 \n",
    "    return counter    \n",
    "\n",
    "def get_not_answered_percent(results):\n",
    "    return get_not_answered(results) / 520   \n",
    "\n",
    "def get_not_answered_model(model, data_type, context, prompt_version):\n",
    "    results = get_results(model, data_type, context, prompt_version)\n",
    "    return get_not_answered(results)\n",
    "\n",
    "def get_not_answered_percent_model(model, data_type, context, prompt_version):\n",
    "    results = get_results(model, data_type, context, prompt_version)\n",
    "    return get_not_answered_percent(results)\n",
    "\n",
    "# get_not_answered_model(\"codellama\", \"strings\", \"no_context\", \"2\")\n",
    "# get_not_answered_percent(results)\n",
    "\n"
   ]
  },
  {
   "cell_type": "code",
   "execution_count": 505,
   "metadata": {},
   "outputs": [],
   "source": [
    "def total_right(results_provided, actual_results):\n",
    "    counter = 0\n",
    "    for i in range(520):\n",
    "        if results_provided[i] == actual_results[i]:\n",
    "            counter += 1\n",
    "    return counter\n",
    "\n",
    "def total_right_percent(results_provided, actual_results):\n",
    "    return total_right(results_provided, actual_results) / 520\n",
    "\n",
    "def total_right_model(model, data_type, context, prompt_version):\n",
    "    results = get_results(model, data_type, context, prompt_version)\n",
    "    if prompt_version == \"0\":\n",
    "        actual_results = private\n",
    "    if prompt_version == \"1\":\n",
    "        actual_results = public\n",
    "    if prompt_version == \"2\":\n",
    "        actual_results = private_details\n",
    "    return total_right(results, actual_results)\n",
    "\n",
    "def total_right_percent_model(model, data_type, context, prompt_version):\n",
    "    return total_right_model(model, data_type, context, prompt_version) / 520"
   ]
  },
  {
   "cell_type": "code",
   "execution_count": 506,
   "metadata": {},
   "outputs": [],
   "source": [
    "def pop_not_answer(predicted_values, real_values):\n",
    "    predicted_values_clean=[]\n",
    "    real_values_clean=[]\n",
    "    for i in range(520):\n",
    "        a = predicted_values[i] \n",
    "        if predicted_values[i] != \"not_answer\":\n",
    "            b = real_values[i]\n",
    "            predicted_values_clean.append(a)\n",
    "            real_values_clean.append(b)\n",
    "    return [predicted_values_clean, real_values_clean]\n",
    "\n",
    "\n",
    "def accuracy(predicted_values, real_values):\n",
    "    clean = pop_not_answer(predicted_values, real_values)\n",
    "    return accuracy_score(clean[0], clean[1])\n",
    "\n",
    "def precision(predicted_values, real_values):\n",
    "    clean = pop_not_answer(predicted_values, real_values)\n",
    "    return precision_score(clean[0], clean[1], average=\"weighted\")\n",
    "\n",
    "def recall(predicted_values, real_values):\n",
    "    clean = pop_not_answer(predicted_values, real_values)\n",
    "    return recall_score(clean[0], clean[1], average=\"weighted\", zero_division=0.0)\n",
    "\n",
    "def get_all_metrics(model, data_type, context, prompt_version):\n",
    "    if prompt_version == \"0\":\n",
    "        real_values_raw = private\n",
    "    if prompt_version == \"1\":\n",
    "        real_values_raw = public\n",
    "    if prompt_version == \"2\":\n",
    "        real_values_raw = private_details\n",
    "\n",
    "    print(model, data_type, context, prompt_version)\n",
    "    print(\"___________________________________________\")\n",
    "    results = get_results(model, data_type, context, prompt_version)\n",
    "    accuracy_values = accuracy(results, real_values_raw) \n",
    "    precision_values = precision(results, real_values_raw)\n",
    "    recall_values = recall(results, real_values_raw)\n",
    "    print(\"accuracy: \", accuracy_values)\n",
    "    print(\"precision: \", precision_values)\n",
    "    print(\"recall: \", recall_values)\n",
    "    return [accuracy_values, precision_values, recall_values]\n",
    "\n",
    "# model_results = get_results(\"llava\", \"image\", \"context\", \"0\")\n",
    "\n",
    "# get_all_metrics(\"llava\", \"image\", \"context\", \"0\", private)\n"
   ]
  },
  {
   "cell_type": "code",
   "execution_count": 507,
   "metadata": {},
   "outputs": [],
   "source": [
    "def print_total_metrics(model, data_type, context, prompt_version):\n",
    "    get_all_metrics(model, data_type, context, prompt_version)\n",
    "    print(\"average time per result(s): \", get_average_time(model, data_type, context, prompt_version))\n",
    "    print(\"average result size (bytes): \", get_all_results_size_average(model, data_type, context, prompt_version))\n",
    "    print(\"number not answered: \", get_not_answered_model(model, data_type, context, prompt_version))\n",
    "    print(\"percentage not answered: \", get_not_answered_percent_model(model, data_type, context, prompt_version))\n",
    "    print(\"percentage right predictions: \",  total_right_percent_model(model, data_type, context, prompt_version))"
   ]
  },
  {
   "cell_type": "markdown",
   "metadata": {},
   "source": [
    "## llama"
   ]
  },
  {
   "cell_type": "markdown",
   "metadata": {},
   "source": [
    "### html parsed"
   ]
  },
  {
   "cell_type": "markdown",
   "metadata": {},
   "source": [
    "#### context "
   ]
  },
  {
   "cell_type": "code",
   "execution_count": 508,
   "metadata": {},
   "outputs": [
    {
     "data": {
      "image/png": "[encoded data removed]",
      "text/plain": [
       "<Figure size 640x480 with 3 Axes>"
      ]
     },
     "metadata": {},
     "output_type": "display_data"
    }
   ],
   "source": [
    "x = get_time(\"codellama\",\"html_parsed\",\"context\",\"0\")\n",
    "y = get_time(\"codellama\",\"html_parsed\",\"context\",\"1\")\n",
    "z = get_time(\"codellama\",\"html_parsed\",\"context\",\"2\")\n",
    "\n",
    "# density = stats.gaussian_kde(x)\n",
    "# plt.hist([x,y],alpha=0.5, label=['x',\"y\"], bins=10)\n",
    "# # plt.hist(z, alpha=0.5, label='z')\n",
    "# plt.legend(loc='upper right')\n",
    "# plt.show()\n",
    "\n",
    "fig, (ax1, ax2, ax3) = plt.subplots(3)\n",
    "fig.suptitle('Vertically stacked subplots')\n",
    "ax1.hist(x, bins = [t for t in range(0, 140, 5)])\n",
    "ax1.set_title(\"title\")\n",
    "plt.yticks([x for x in range(0, 350, 50)])\n",
    "\n",
    "ax2.hist(y, bins = [t for t in range(0, 140, 5)])\n",
    "ax2.set_title(\"title\")\n",
    "\n",
    "plt.yticks([x for x in range(0, 350, 50)])\n",
    "ax3.hist(z)\n",
    "ax3.set_title(\"title\")\n",
    "fig.tight_layout() "
   ]
  },
  {
   "cell_type": "code",
   "execution_count": 606,
   "metadata": {},
   "outputs": [
    {
     "data": {
      "image/png": "[encoded data removed]",
      "text/plain": [
       "<Figure size 640x480 with 3 Axes>"
      ]
     },
     "metadata": {},
     "output_type": "display_data"
    }
   ],
   "source": [
    "x = get_time(\"codellama\",\"html_parsed\",\"context\",\"0\")\n",
    "y = get_time(\"codellama\",\"html_parsed\",\"context\",\"1\")\n",
    "z = get_time(\"codellama\",\"html_parsed\",\"context\",\"2\")\n",
    "\n",
    "# density = stats.gaussian_kde(x)\n",
    "# plt.hist([x,y],alpha=0.5, label=['x',\"y\"], bins=10)\n",
    "# # plt.hist(z, alpha=0.5, label='z')\n",
    "# plt.legend(loc='upper right')\n",
    "# plt.show()\n",
    "\n",
    "fig, (ax1, ax2, ax3) = plt.subplots(3)\n",
    "fig.suptitle('Vertically stacked subplots')\n",
    "ax1.hist(x, bins = [t for t in range(0, 140, 5)])\n",
    "ax1.set_title(\"title\")\n",
    "ax2.hist(y, bins = [t for t in range(0, 140, 5)])\n",
    "ax2.set_title(\"title\")\n",
    "ax3.hist(z)\n",
    "ax3.set_title(\"title\")\n",
    "fig.tight_layout() "
   ]
  },
  {
   "cell_type": "code",
   "execution_count": 609,
   "metadata": {},
   "outputs": [
    {
     "name": "stdout",
     "output_type": "stream",
     "text": [
      "llama html_parsed context 0\n",
      "___________________________________________\n",
      "accuracy:  0.6428571428571429\n",
      "precision:  0.8526687394740251\n",
      "recall:  0.6428571428571429\n",
      "average time per result(s):  7.079108776669229\n",
      "average result size (bytes):  342.9596153846154\n",
      "number not answered:  2\n",
      "percentage not answered:  0.0038461538461538464\n",
      "percentage right predictions:  0.6403846153846153\n"
     ]
    }
   ],
   "source": [
    "print_total_metrics(\"llama\",\"html_parsed\",\"context\",\"0\")\n"
   ]
  },
  {
   "cell_type": "code",
   "execution_count": 510,
   "metadata": {},
   "outputs": [
    {
     "name": "stdout",
     "output_type": "stream",
     "text": [
      "llama html_parsed context 1\n",
      "___________________________________________\n",
      "accuracy:  0.3596153846153846\n",
      "precision:  1.0\n",
      "recall:  0.3596153846153846\n",
      "average time per result(s):  6.48077680745962\n",
      "average result size (bytes):  323.67115384615386\n",
      "number not answered:  0\n",
      "percentage not answered:  0.0\n",
      "percentage right predictions:  0.3596153846153846\n"
     ]
    }
   ],
   "source": [
    "print_total_metrics(\"llama\",\"html_parsed\",\"context\",\"1\")"
   ]
  },
  {
   "cell_type": "code",
   "execution_count": 511,
   "metadata": {},
   "outputs": [
    {
     "name": "stdout",
     "output_type": "stream",
     "text": [
      "llama html_parsed context 2\n",
      "___________________________________________\n",
      "accuracy:  0.5057692307692307\n",
      "precision:  0.818201103242011\n",
      "recall:  0.5057692307692307\n",
      "average time per result(s):  7.245863510455771\n",
      "average result size (bytes):  347.4173076923077\n",
      "number not answered:  0\n",
      "percentage not answered:  0.0\n",
      "percentage right predictions:  0.5057692307692307\n"
     ]
    }
   ],
   "source": [
    "print_total_metrics(\"llama\",\"html_parsed\",\"context\",\"2\")"
   ]
  },
  {
   "cell_type": "markdown",
   "metadata": {},
   "source": [
    "#### no context"
   ]
  },
  {
   "cell_type": "code",
   "execution_count": 512,
   "metadata": {},
   "outputs": [
    {
     "name": "stdout",
     "output_type": "stream",
     "text": [
      "llama html_parsed no_context 0\n",
      "___________________________________________\n",
      "accuracy:  0.625\n",
      "precision:  0.9286224727401198\n",
      "recall:  0.625\n",
      "average time per result(s):  6.55645339181154\n",
      "average result size (bytes):  324.65384615384613\n",
      "number not answered:  0\n",
      "percentage not answered:  0.0\n",
      "percentage right predictions:  0.625\n",
      "\n"
     ]
    }
   ],
   "source": [
    "print_total_metrics(\"llama\",\"html_parsed\",\"no_context\",\"0\")\n",
    "print()"
   ]
  },
  {
   "cell_type": "code",
   "execution_count": 513,
   "metadata": {},
   "outputs": [
    {
     "name": "stdout",
     "output_type": "stream",
     "text": [
      "llama html_parsed no_context 1\n",
      "___________________________________________\n",
      "accuracy:  0.3596153846153846\n",
      "precision:  1.0\n",
      "recall:  0.3596153846153846\n",
      "average time per result(s):  6.356302662473078\n",
      "average result size (bytes):  319.0423076923077\n",
      "number not answered:  0\n",
      "percentage not answered:  0.0\n",
      "percentage right predictions:  0.3596153846153846\n",
      "\n"
     ]
    }
   ],
   "source": [
    "print_total_metrics(\"llama\",\"html_parsed\",\"no_context\",\"1\")\n",
    "print()"
   ]
  },
  {
   "cell_type": "code",
   "execution_count": 514,
   "metadata": {},
   "outputs": [
    {
     "name": "stdout",
     "output_type": "stream",
     "text": [
      "llama html_parsed no_context 2\n",
      "___________________________________________\n",
      "accuracy:  0.5192307692307693\n",
      "precision:  0.9124396966824213\n",
      "recall:  0.5192307692307693\n",
      "average time per result(s):  6.414894623419234\n",
      "average result size (bytes):  319.7173076923077\n",
      "number not answered:  0\n",
      "percentage not answered:  0.0\n",
      "percentage right predictions:  0.5192307692307693\n",
      "\n"
     ]
    }
   ],
   "source": [
    "print_total_metrics(\"llama\",\"html_parsed\",\"no_context\",\"2\")\n",
    "print()"
   ]
  },
  {
   "cell_type": "markdown",
   "metadata": {},
   "source": [
    "### strings"
   ]
  },
  {
   "cell_type": "markdown",
   "metadata": {},
   "source": [
    "#### context "
   ]
  },
  {
   "cell_type": "code",
   "execution_count": 515,
   "metadata": {},
   "outputs": [
    {
     "name": "stdout",
     "output_type": "stream",
     "text": [
      "llama strings context 0\n",
      "___________________________________________\n",
      "accuracy:  0.6750524109014675\n",
      "precision:  0.7527049947292992\n",
      "recall:  0.6750524109014675\n",
      "average time per result(s):  9.14692735975192\n",
      "average result size (bytes):  466.09615384615387\n",
      "number not answered:  43\n",
      "percentage not answered:  0.08269230769230769\n",
      "percentage right predictions:  0.6192307692307693\n",
      "\n"
     ]
    }
   ],
   "source": [
    "print_total_metrics(\"llama\",\"strings\",\"context\",\"0\")\n",
    "print()"
   ]
  },
  {
   "cell_type": "code",
   "execution_count": 516,
   "metadata": {},
   "outputs": [
    {
     "name": "stdout",
     "output_type": "stream",
     "text": [
      "llama strings context 1\n",
      "___________________________________________\n"
     ]
    },
    {
     "name": "stdout",
     "output_type": "stream",
     "text": [
      "accuracy:  0.4444444444444444\n",
      "precision:  0.7620173364854216\n",
      "recall:  0.4444444444444444\n",
      "average time per result(s):  10.276558295955766\n",
      "average result size (bytes):  506.9519230769231\n",
      "number not answered:  70\n",
      "percentage not answered:  0.1346153846153846\n",
      "percentage right predictions:  0.38461538461538464\n"
     ]
    }
   ],
   "source": [
    "print_total_metrics(\"llama\",\"strings\",\"context\",\"1\")"
   ]
  },
  {
   "cell_type": "code",
   "execution_count": 517,
   "metadata": {},
   "outputs": [
    {
     "name": "stdout",
     "output_type": "stream",
     "text": [
      "llama strings context 2\n",
      "___________________________________________\n",
      "accuracy:  0.5883495145631068\n",
      "precision:  0.7116245021207014\n",
      "recall:  0.5883495145631068\n",
      "average time per result(s):  5.649929714699996\n",
      "average result size (bytes):  352.7653846153846\n",
      "number not answered:  5\n",
      "percentage not answered:  0.009615384615384616\n",
      "percentage right predictions:  0.5826923076923077\n"
     ]
    }
   ],
   "source": [
    "print_total_metrics(\"llama\",\"strings\",\"context\",\"2\")"
   ]
  },
  {
   "cell_type": "markdown",
   "metadata": {},
   "source": [
    "#### no context"
   ]
  },
  {
   "cell_type": "code",
   "execution_count": 518,
   "metadata": {},
   "outputs": [
    {
     "name": "stdout",
     "output_type": "stream",
     "text": [
      "llama strings no_context 0\n",
      "___________________________________________\n",
      "accuracy:  0.5254237288135594\n",
      "precision:  0.549987718005404\n",
      "recall:  0.5254237288135594\n",
      "average time per result(s):  36.496502981296146\n",
      "average result size (bytes):  1417.548076923077\n",
      "number not answered:  461\n",
      "percentage not answered:  0.8865384615384615\n",
      "percentage right predictions:  0.05961538461538462\n",
      "\n"
     ]
    }
   ],
   "source": [
    "print_total_metrics(\"llama\",\"strings\",\"no_context\",\"0\")\n",
    "print()"
   ]
  },
  {
   "cell_type": "code",
   "execution_count": 519,
   "metadata": {},
   "outputs": [
    {
     "name": "stdout",
     "output_type": "stream",
     "text": [
      "llama strings no_context 1\n",
      "___________________________________________\n",
      "accuracy:  0.4838709677419355\n",
      "precision:  0.4743769554428741\n",
      "recall:  0.4838709677419355\n",
      "average time per result(s):  36.62655351256918\n",
      "average result size (bytes):  1417.428846153846\n",
      "number not answered:  458\n",
      "percentage not answered:  0.8807692307692307\n",
      "percentage right predictions:  0.057692307692307696\n",
      "\n"
     ]
    }
   ],
   "source": [
    "print_total_metrics(\"llama\",\"strings\",\"no_context\",\"1\")\n",
    "print()"
   ]
  },
  {
   "cell_type": "code",
   "execution_count": 520,
   "metadata": {},
   "outputs": [
    {
     "name": "stdout",
     "output_type": "stream",
     "text": [
      "llama strings no_context 2\n",
      "___________________________________________\n",
      "accuracy:  0.5858585858585859\n",
      "precision:  0.579180949769185\n",
      "recall:  0.5858585858585859\n",
      "average time per result(s):  27.563384765257677\n",
      "average result size (bytes):  1109.9692307692308\n",
      "number not answered:  322\n",
      "percentage not answered:  0.6192307692307693\n",
      "percentage right predictions:  0.2230769230769231\n",
      "\n"
     ]
    }
   ],
   "source": [
    "print_total_metrics(\"llama\",\"strings\",\"no_context\",\"2\")\n",
    "print()"
   ]
  },
  {
   "cell_type": "markdown",
   "metadata": {},
   "source": [
    "## codellama"
   ]
  },
  {
   "cell_type": "markdown",
   "metadata": {},
   "source": [
    "### html parsed"
   ]
  },
  {
   "cell_type": "markdown",
   "metadata": {},
   "source": [
    "#### context "
   ]
  },
  {
   "cell_type": "code",
   "execution_count": 521,
   "metadata": {},
   "outputs": [
    {
     "name": "stdout",
     "output_type": "stream",
     "text": [
      "codellama html_parsed context 0\n",
      "___________________________________________\n",
      "accuracy:  0.5865384615384616\n",
      "precision:  0.7347681906505437\n",
      "recall:  0.5865384615384616\n",
      "average time per result(s):  17.002601894967302\n",
      "average result size (bytes):  679.7711538461539\n",
      "number not answered:  0\n",
      "percentage not answered:  0.0\n",
      "percentage right predictions:  0.5865384615384616\n",
      "\n"
     ]
    }
   ],
   "source": [
    "print_total_metrics(\"codellama\",\"html_parsed\",\"context\",\"0\")\n",
    "print()"
   ]
  },
  {
   "cell_type": "code",
   "execution_count": 522,
   "metadata": {},
   "outputs": [
    {
     "name": "stdout",
     "output_type": "stream",
     "text": [
      "codellama html_parsed context 1\n",
      "___________________________________________\n",
      "accuracy:  0.3932806324110672\n",
      "precision:  0.8585944413814168\n",
      "recall:  0.3932806324110672\n",
      "average time per result(s):  19.541717643519227\n",
      "average result size (bytes):  768.4423076923077\n",
      "number not answered:  14\n",
      "percentage not answered:  0.026923076923076925\n",
      "percentage right predictions:  0.38269230769230766\n"
     ]
    }
   ],
   "source": [
    "print_total_metrics(\"codellama\",\"html_parsed\",\"context\",\"1\")"
   ]
  },
  {
   "cell_type": "code",
   "execution_count": 523,
   "metadata": {},
   "outputs": [
    {
     "name": "stdout",
     "output_type": "stream",
     "text": [
      "codellama html_parsed context 2\n",
      "___________________________________________\n",
      "accuracy:  0.5019230769230769\n",
      "precision:  0.7510104895622198\n",
      "recall:  0.5019230769230769\n",
      "average time per result(s):  16.96941629260383\n",
      "average result size (bytes):  670.8019230769231\n",
      "number not answered:  0\n",
      "percentage not answered:  0.0\n",
      "percentage right predictions:  0.5019230769230769\n"
     ]
    }
   ],
   "source": [
    "print_total_metrics(\"codellama\",\"html_parsed\",\"context\",\"2\")"
   ]
  },
  {
   "cell_type": "markdown",
   "metadata": {},
   "source": [
    "#### no context"
   ]
  },
  {
   "cell_type": "code",
   "execution_count": 524,
   "metadata": {},
   "outputs": [
    {
     "name": "stdout",
     "output_type": "stream",
     "text": [
      "codellama html_parsed no_context 0\n",
      "___________________________________________\n"
     ]
    },
    {
     "name": "stdout",
     "output_type": "stream",
     "text": [
      "accuracy:  0.577433628318584\n",
      "precision:  0.6848603435090059\n",
      "recall:  0.577433628318584\n",
      "average time per result(s):  16.45071845769234\n",
      "average result size (bytes):  644.1096153846154\n",
      "number not answered:  68\n",
      "percentage not answered:  0.13076923076923078\n",
      "percentage right predictions:  0.5019230769230769\n",
      "\n"
     ]
    }
   ],
   "source": [
    "print_total_metrics(\"codellama\",\"html_parsed\",\"no_context\",\"0\")\n",
    "print()"
   ]
  },
  {
   "cell_type": "code",
   "execution_count": 525,
   "metadata": {},
   "outputs": [
    {
     "name": "stdout",
     "output_type": "stream",
     "text": [
      "codellama html_parsed no_context 1\n",
      "___________________________________________\n",
      "accuracy:  0.42032332563510394\n",
      "precision:  0.7131660452273192\n",
      "recall:  0.42032332563510394\n",
      "average time per result(s):  17.621429051257678\n",
      "average result size (bytes):  685.3519230769231\n",
      "number not answered:  87\n",
      "percentage not answered:  0.1673076923076923\n",
      "percentage right predictions:  0.35\n",
      "\n"
     ]
    }
   ],
   "source": [
    "print_total_metrics(\"codellama\",\"html_parsed\",\"no_context\",\"1\")\n",
    "print()"
   ]
  },
  {
   "cell_type": "code",
   "execution_count": 526,
   "metadata": {},
   "outputs": [
    {
     "name": "stdout",
     "output_type": "stream",
     "text": [
      "codellama html_parsed no_context 2\n",
      "___________________________________________\n",
      "accuracy:  0.4805447470817121\n",
      "precision:  0.7984826122488808\n",
      "recall:  0.4805447470817121\n",
      "average time per result(s):  12.941817939748079\n",
      "average result size (bytes):  550.1788461538462\n",
      "number not answered:  6\n",
      "percentage not answered:  0.011538461538461539\n",
      "percentage right predictions:  0.475\n",
      "\n"
     ]
    }
   ],
   "source": [
    "print_total_metrics(\"codellama\",\"html_parsed\",\"no_context\",\"2\")\n",
    "print()"
   ]
  },
  {
   "cell_type": "markdown",
   "metadata": {},
   "source": [
    "### strings"
   ]
  },
  {
   "cell_type": "markdown",
   "metadata": {},
   "source": [
    "#### context "
   ]
  },
  {
   "cell_type": "code",
   "execution_count": 527,
   "metadata": {},
   "outputs": [
    {
     "name": "stdout",
     "output_type": "stream",
     "text": [
      "codellama strings context 0\n",
      "___________________________________________\n",
      "accuracy:  0.5795454545454546\n",
      "precision:  0.7856704526059364\n",
      "recall:  0.5795454545454546\n",
      "average time per result(s):  44.19396887439617\n",
      "average result size (bytes):  1401.5846153846153\n",
      "number not answered:  168\n",
      "percentage not answered:  0.3230769230769231\n",
      "percentage right predictions:  0.3923076923076923\n",
      "\n"
     ]
    }
   ],
   "source": [
    "print_total_metrics(\"codellama\",\"strings\",\"context\",\"0\")\n",
    "print()"
   ]
  },
  {
   "cell_type": "code",
   "execution_count": 528,
   "metadata": {},
   "outputs": [
    {
     "name": "stdout",
     "output_type": "stream",
     "text": [
      "codellama strings context 1\n",
      "___________________________________________\n",
      "accuracy:  0.46835443037974683\n",
      "precision:  0.8046314329882823\n",
      "recall:  0.46835443037974683\n",
      "average time per result(s):  53.461540154176916\n",
      "average result size (bytes):  1765.3365384615386\n",
      "number not answered:  204\n",
      "percentage not answered:  0.3923076923076923\n",
      "percentage right predictions:  0.2846153846153846\n"
     ]
    }
   ],
   "source": [
    "print_total_metrics(\"codellama\",\"strings\",\"context\",\"1\")"
   ]
  },
  {
   "cell_type": "code",
   "execution_count": 529,
   "metadata": {},
   "outputs": [
    {
     "name": "stdout",
     "output_type": "stream",
     "text": [
      "codellama strings context 2\n",
      "___________________________________________\n",
      "accuracy:  0.49002217294900224\n",
      "precision:  0.5708441605822852\n",
      "recall:  0.49002217294900224\n",
      "average time per result(s):  16.663737146892302\n",
      "average result size (bytes):  694.2730769230769\n",
      "number not answered:  69\n",
      "percentage not answered:  0.1326923076923077\n",
      "percentage right predictions:  0.425\n"
     ]
    }
   ],
   "source": [
    "print_total_metrics(\"codellama\",\"strings\",\"context\",\"2\")"
   ]
  },
  {
   "cell_type": "markdown",
   "metadata": {},
   "source": [
    "#### no context"
   ]
  },
  {
   "cell_type": "code",
   "execution_count": 530,
   "metadata": {},
   "outputs": [
    {
     "name": "stdout",
     "output_type": "stream",
     "text": [
      "codellama strings no_context 0\n",
      "___________________________________________\n"
     ]
    },
    {
     "name": "stdout",
     "output_type": "stream",
     "text": [
      "accuracy:  0.5657894736842105\n",
      "precision:  0.6913349036567942\n",
      "recall:  0.5657894736842105\n",
      "average time per result(s):  131.00833426478275\n",
      "average result size (bytes):  3598.632692307692\n",
      "number not answered:  444\n",
      "percentage not answered:  0.8538461538461538\n",
      "percentage right predictions:  0.08269230769230769\n",
      "\n"
     ]
    }
   ],
   "source": [
    "print_total_metrics(\"codellama\",\"strings\",\"no_context\",\"0\")\n",
    "print()"
   ]
  },
  {
   "cell_type": "code",
   "execution_count": 531,
   "metadata": {},
   "outputs": [
    {
     "name": "stdout",
     "output_type": "stream",
     "text": [
      "codellama strings no_context 1\n",
      "___________________________________________\n",
      "accuracy:  0.4125\n",
      "precision:  0.64625\n",
      "recall:  0.4125\n",
      "average time per result(s):  100.98291051601737\n",
      "average result size (bytes):  3006.4442307692307\n",
      "number not answered:  440\n",
      "percentage not answered:  0.8461538461538461\n",
      "percentage right predictions:  0.06346153846153846\n",
      "\n"
     ]
    }
   ],
   "source": [
    "print_total_metrics(\"codellama\",\"strings\",\"no_context\",\"1\")\n",
    "print()"
   ]
  },
  {
   "cell_type": "code",
   "execution_count": 532,
   "metadata": {},
   "outputs": [
    {
     "name": "stdout",
     "output_type": "stream",
     "text": [
      "codellama strings no_context 2\n",
      "___________________________________________\n",
      "accuracy:  0.4911242603550296\n",
      "precision:  0.6786985597224595\n",
      "recall:  0.4911242603550296\n",
      "average time per result(s):  106.04875717895193\n",
      "average result size (bytes):  2880.9538461538464\n",
      "number not answered:  351\n",
      "percentage not answered:  0.675\n",
      "percentage right predictions:  0.1596153846153846\n",
      "\n"
     ]
    }
   ],
   "source": [
    "print_total_metrics(\"codellama\",\"strings\",\"no_context\",\"2\")\n",
    "print()"
   ]
  },
  {
   "cell_type": "markdown",
   "metadata": {},
   "source": [
    "## llava\n"
   ]
  },
  {
   "cell_type": "markdown",
   "metadata": {},
   "source": [
    "### image"
   ]
  },
  {
   "cell_type": "markdown",
   "metadata": {},
   "source": [
    "#### context "
   ]
  },
  {
   "cell_type": "code",
   "execution_count": 533,
   "metadata": {},
   "outputs": [
    {
     "name": "stdout",
     "output_type": "stream",
     "text": [
      "llava image context 0\n",
      "___________________________________________\n",
      "accuracy:  0.948076923076923\n",
      "precision:  0.9480240833182009\n",
      "recall:  0.948076923076923\n",
      "average time per result(s):  10.006484586665382\n",
      "average result size (bytes):  1298.6192307692309\n",
      "number not answered:  0\n",
      "percentage not answered:  0.0\n",
      "percentage right predictions:  0.948076923076923\n",
      "\n"
     ]
    }
   ],
   "source": [
    "print_total_metrics(\"llava\",\"image\",\"context\",\"0\")\n",
    "print()"
   ]
  },
  {
   "cell_type": "code",
   "execution_count": 534,
   "metadata": {},
   "outputs": [
    {
     "name": "stdout",
     "output_type": "stream",
     "text": [
      "llava image context 1\n",
      "___________________________________________\n",
      "accuracy:  0.47534516765285995\n",
      "precision:  0.5742471335370744\n",
      "recall:  0.47534516765285995\n",
      "average time per result(s):  11.523758847544228\n",
      "average result size (bytes):  1358.4903846153845\n",
      "number not answered:  13\n",
      "percentage not answered:  0.025\n",
      "percentage right predictions:  0.4634615384615385\n"
     ]
    }
   ],
   "source": [
    "print_total_metrics(\"llava\",\"image\",\"context\",\"1\")"
   ]
  },
  {
   "cell_type": "code",
   "execution_count": 535,
   "metadata": {},
   "outputs": [
    {
     "name": "stdout",
     "output_type": "stream",
     "text": [
      "llava image context 2\n",
      "___________________________________________\n",
      "accuracy:  0.9596153846153846\n",
      "precision:  0.9596245745052538\n",
      "recall:  0.9596153846153846\n",
      "average time per result(s):  224.1612084114807\n",
      "average result size (bytes):  1300.3423076923077\n",
      "number not answered:  0\n",
      "percentage not answered:  0.0\n",
      "percentage right predictions:  0.9596153846153846\n"
     ]
    }
   ],
   "source": [
    "print_total_metrics(\"llava\",\"image\",\"context\",\"2\")"
   ]
  },
  {
   "cell_type": "markdown",
   "metadata": {},
   "source": [
    "#### no context"
   ]
  },
  {
   "cell_type": "code",
   "execution_count": 536,
   "metadata": {},
   "outputs": [
    {
     "name": "stdout",
     "output_type": "stream",
     "text": [
      "llava image no_context 0\n",
      "___________________________________________\n",
      "accuracy:  0.65\n",
      "precision:  0.8440646528881822\n",
      "recall:  0.65\n",
      "average time per result(s):  8.094738927275007\n",
      "average result size (bytes):  519.7423076923077\n",
      "number not answered:  0\n",
      "percentage not answered:  0.0\n",
      "percentage right predictions:  0.65\n",
      "\n"
     ]
    }
   ],
   "source": [
    "print_total_metrics(\"llava\",\"image\",\"no_context\",\"0\")\n",
    "print()"
   ]
  },
  {
   "cell_type": "code",
   "execution_count": 537,
   "metadata": {},
   "outputs": [
    {
     "name": "stdout",
     "output_type": "stream",
     "text": [
      "llava image no_context 1\n",
      "___________________________________________\n",
      "accuracy:  0.3850687622789784\n",
      "precision:  0.7315440716873928\n",
      "recall:  0.3850687622789784\n",
      "average time per result(s):  9.077984608353844\n",
      "average result size (bytes):  545.8846153846154\n",
      "number not answered:  11\n",
      "percentage not answered:  0.021153846153846155\n",
      "percentage right predictions:  0.3769230769230769\n",
      "\n"
     ]
    }
   ],
   "source": [
    "print_total_metrics(\"llava\",\"image\",\"no_context\",\"1\")\n",
    "print()"
   ]
  },
  {
   "cell_type": "code",
   "execution_count": 538,
   "metadata": {},
   "outputs": [
    {
     "name": "stdout",
     "output_type": "stream",
     "text": [
      "llava image no_context 2\n",
      "___________________________________________\n",
      "accuracy:  0.5288461538461539\n",
      "precision:  0.5397469849763794\n",
      "recall:  0.5288461538461539\n",
      "average time per result(s):  10.833071077148078\n",
      "average result size (bytes):  519.1634615384615\n",
      "number not answered:  0\n",
      "percentage not answered:  0.0\n",
      "percentage right predictions:  0.5288461538461539\n",
      "\n"
     ]
    }
   ],
   "source": [
    "print_total_metrics(\"llava\",\"image\",\"no_context\",\"2\")\n",
    "print()"
   ]
  },
  {
   "cell_type": "markdown",
   "metadata": {},
   "source": [
    "## Graphics dataset"
   ]
  },
  {
   "cell_type": "code",
   "execution_count": null,
   "metadata": {},
   "outputs": [],
   "source": [
    "#used\n",
    "## private pages \n",
    "results = websites.groupby('private')['id'].nunique()\n",
    "results = [results[\"yes\"], results[\"no\"]]\n",
    "\n",
    "labels = [\"Private Pages\", \"Public Pages\"]\n",
    "\n",
    "plt.pie(results, labels = labels, autopct='%1.1f%%')\n",
    "plt.legend(loc='center left', bbox_to_anchor=(1, 0.5))\n",
    "plt.title('Distribution of Public and Private Pages')\n",
    "\n",
    "plt.show() \n"
   ]
  },
  {
   "cell_type": "code",
   "execution_count": null,
   "metadata": {},
   "outputs": [],
   "source": [
    "# used \n",
    "## private pages \n",
    "results = websites.groupby('private_details')['id'].nunique()\n",
    "results = [results[\"yes\"], results[\"no\"]]\n",
    "\n",
    "labels = [\"Pages With Private Details\", \"Pages Without Private Details\"]\n",
    "\n",
    "plt.pie(results, labels = labels, autopct='%1.1f%%')\n",
    "plt.legend(loc='center left', bbox_to_anchor=(1, 0.5))\n",
    "plt.title('Distribution of Pages with Private Details')\n",
    "\n",
    "plt.show() "
   ]
  },
  {
   "cell_type": "code",
   "execution_count": null,
   "metadata": {},
   "outputs": [],
   "source": [
    "# used \n",
    "websites_temp = websites.copy(deep=True)\n",
    "websites_temp = websites_temp.drop(columns=[\"notes\", \"url\", \"html\"])\n",
    "\n",
    "results = websites_temp.groupby('website')['id'].nunique()\n",
    "\n",
    "#number of websites\n",
    "print(\"number of websites:\", results.count())\n",
    "\n",
    "results.sort_values()\n",
    "\n",
    "results.values\n",
    "plt.hist(results.values)\n",
    "plt.title(\"Number of Pages Gathered at Each Website Distribution\")\n",
    "plt.xlabel(\"Number of Pages Gathered\")\n",
    "plt.ylabel(\"Frequency\")\n",
    "plt.show() "
   ]
  },
  {
   "cell_type": "code",
   "execution_count": null,
   "metadata": {},
   "outputs": [],
   "source": [
    "#used\n",
    "def to_minutes(duration_string): \n",
    "    values = duration_string.split(\":\")\n",
    "    return int(values[1]) + ( int(values[2]) / 60)\n",
    "\n",
    "to_minutes(\"00:07:02\")"
   ]
  },
  {
   "cell_type": "code",
   "execution_count": null,
   "metadata": {},
   "outputs": [],
   "source": [
    "# used \n",
    "categories = pd.read_csv(\"../../dataset/raw_data/websites.csv\")\n",
    "categories = categories.drop(columns=[\"website_overview_link\", \"register_info\"])\n",
    "\n",
    "categories[\"pages / visit\"].describe()\n"
   ]
  },
  {
   "cell_type": "code",
   "execution_count": null,
   "metadata": {},
   "outputs": [],
   "source": [
    "#not used\n",
    "# categories[\"visit duration\"] = categories[\"visit duration\"].apply(to_minutes)\n",
    "categories[\"visit duration\"].describe()"
   ]
  },
  {
   "cell_type": "code",
   "execution_count": null,
   "metadata": {},
   "outputs": [],
   "source": [
    "#used\n",
    "def to_number_visit(string_number):\n",
    "    multiplier = 0\n",
    "    if \"b\" in string_number: multiplier = 1000000000\n",
    "    if \"m\" in string_number: multiplier = 1000000\n",
    "\n",
    "    split = string_number[:-1]\n",
    "    return float(split) * multiplier\n",
    "\n",
    "to_number_visit(\"2.2b\")"
   ]
  },
  {
   "cell_type": "code",
   "execution_count": null,
   "metadata": {},
   "outputs": [],
   "source": [
    "#used\n",
    "# categories[\"monthly visits\"] = categories[\"monthly visits\"].apply(to_number_visit)\n",
    "print(categories[\"monthly visits\"].sum())\n",
    "categories[\"monthly visits\"].describe()"
   ]
  },
  {
   "cell_type": "code",
   "execution_count": null,
   "metadata": {},
   "outputs": [],
   "source": [
    "# will not be used \n",
    "categories[\"bounce rate\"].describe()"
   ]
  },
  {
   "cell_type": "code",
   "execution_count": 551,
   "metadata": {},
   "outputs": [],
   "source": [
    "#used\n",
    "websites_temp = websites.copy(deep=True)\n",
    "categories_temp = categories.copy(deep=True)\n",
    "categories_temp =  categories_temp.drop(columns = [\"monthly visits\", \"pages / visit\", \"visit duration\", \"bounce rate\"])\n",
    "# categories_temp\n",
    "\n",
    "websites_temp = websites_temp.drop(columns=[\"url\" , \"notes\", \"private\", \"private_details\", \"html\"])\n",
    "websites_temp = websites_temp.merge(categories_temp, on=\"website\")\n"
   ]
  },
  {
   "cell_type": "code",
   "execution_count": null,
   "metadata": {},
   "outputs": [],
   "source": [
    "## used\n",
    "\n",
    "websites_temp\n",
    "results = websites_temp.groupby('category')['id'].nunique()\n",
    "\n",
    "plot = results.plot.bar()\n",
    "plot.set_title(\"Number of Pages per Category\")\n",
    "plot.set_xlabel(\"Categories\")\n",
    "plot.set_ylabel(\"Number of Pages\")\n"
   ]
  },
  {
   "cell_type": "markdown",
   "metadata": {},
   "source": [
    "## Prompts"
   ]
  },
  {
   "cell_type": "code",
   "execution_count": 604,
   "metadata": {},
   "outputs": [
    {
     "name": "stdout",
     "output_type": "stream",
     "text": [
      "11348854\n"
     ]
    },
    {
     "data": {
      "text/plain": [
       "Text(0.5, 1.0, 'Distribution of Size of Prompts Generated with HTML')"
      ]
     },
     "execution_count": 604,
     "metadata": {},
     "output_type": "execute_result"
    },
    {
     "data": {
      "image/png": "[encoded data removed]",
      "text/plain": [
       "<Figure size 640x480 with 1 Axes>"
      ]
     },
     "metadata": {},
     "output_type": "display_data"
    }
   ],
   "source": [
    "sizes = get_all_prompt_size(\"llama\", \"html_parsed\", \"no_context\", \"0\")\n",
    "print(max(sizes))\n",
    "plt.hist(sizes, bins=20)\n",
    "plt.xscale(\"log\")\n",
    "plt.xlabel(\"Size of Prompt in Bytes\")\n",
    "plt.title(\"Distribution of Size of Prompts Generated with HTML\")"
   ]
  },
  {
   "cell_type": "code",
   "execution_count": 605,
   "metadata": {},
   "outputs": [
    {
     "name": "stdout",
     "output_type": "stream",
     "text": [
      "597875\n"
     ]
    },
    {
     "data": {
      "text/plain": [
       "Text(0.5, 1.0, 'Distribution of Size of Prompts Generated with Strings')"
      ]
     },
     "execution_count": 605,
     "metadata": {},
     "output_type": "execute_result"
    },
    {
     "data": {
      "image/png": "[encoded data removed]",
      "text/plain": [
       "<Figure size 640x480 with 1 Axes>"
      ]
     },
     "metadata": {},
     "output_type": "display_data"
    }
   ],
   "source": [
    "sizes = get_all_prompt_size(\"llama\", \"strings\", \"no_context\", \"0\")\n",
    "print(max(sizes))\n",
    "plt.hist(sizes, bins=20)\n",
    "plt.xscale(\"log\")\n",
    "plt.xlabel(\"Size of Prompt in Bytes\")\n",
    "plt.title(\"Distribution of Size of Prompts Generated with Strings\")"
   ]
  },
  {
   "cell_type": "code",
   "execution_count": 603,
   "metadata": {},
   "outputs": [
    {
     "name": "stdout",
     "output_type": "stream",
     "text": [
      "98163319\n"
     ]
    },
    {
     "data": {
      "text/plain": [
       "Text(0.5, 1.0, 'Distribution of Size of Prompts Generated with Image')"
      ]
     },
     "execution_count": 603,
     "metadata": {},
     "output_type": "execute_result"
    },
    {
     "data": {
      "image/png": "[encoded data removed]",
      "text/plain": [
       "<Figure size 640x480 with 1 Axes>"
      ]
     },
     "metadata": {},
     "output_type": "display_data"
    }
   ],
   "source": [
    "sizes = get_all_prompt_size(\"llava\", \"image\", \"no_context\", \"0\")\n",
    "print(max(sizes))\n",
    "plt.hist(sizes, bins=20)\n",
    "plt.xscale(\"log\")\n",
    "plt.xlabel(\"Size of Prompt in Bytes\")\n",
    "plt.title(\"Distribution of Size of Prompts Generated with Image\")"
   ]
  }
 ],
 "metadata": {
  "kernelspec": {
   "display_name": "Python 3",
   "language": "python",
   "name": "python3"
  },
  "language_info": {
   "codemirror_mode": {
    "name": "ipython",
    "version": 3
   },
   "file_extension": ".py",
   "mimetype": "text/x-python",
   "name": "python",
   "nbconvert_exporter": "python",
   "pygments_lexer": "ipython3",
   "version": "3.12.4"
  }
 },
 "nbformat": 4,
 "nbformat_minor": 2
}
